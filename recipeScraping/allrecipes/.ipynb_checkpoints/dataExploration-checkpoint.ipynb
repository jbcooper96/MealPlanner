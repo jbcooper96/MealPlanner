{
 "cells": [
  {
   "cell_type": "code",
   "execution_count": 75,
   "id": "190f33e1",
   "metadata": {},
   "outputs": [],
   "source": [
    "import pandas as pd\n",
    "import json\n",
    "import unicodedata"
   ]
  },
  {
   "cell_type": "code",
   "execution_count": 57,
   "id": "5e089f33",
   "metadata": {},
   "outputs": [],
   "source": [
    "df = pd.read_csv(\"cleanedData.csv\")"
   ]
  },
  {
   "cell_type": "code",
   "execution_count": 58,
   "id": "84dd6c8c",
   "metadata": {},
   "outputs": [
    {
     "data": {
      "text/plain": [
       "37222"
      ]
     },
     "execution_count": 58,
     "metadata": {},
     "output_type": "execute_result"
    }
   ],
   "source": [
    "len(df)"
   ]
  },
  {
   "cell_type": "code",
   "execution_count": 66,
   "id": "2f5d1195",
   "metadata": {},
   "outputs": [],
   "source": [
    "def explore_units(df):\n",
    "    ingredient_unit_count_map = dict()\n",
    "    for index, row in df.iterrows():\n",
    "        ingredients = json.loads(row[\"ingredients\"])\n",
    "        for ingredient in ingredients:\n",
    "            if \"unit\" in ingredient:\n",
    "                unit = ingredient[\"unit\"]\n",
    "                if unit == \"\":\n",
    "                    unit = \"NONE\"\n",
    "                if unit in ingredient_unit_count_map:\n",
    "                    ingredient_unit_count_map[unit] += 1\n",
    "                else:\n",
    "                    ingredient_unit_count_map[unit] = 1\n",
    "\n",
    "    return ingredient_unit_count_map"
   ]
  },
  {
   "cell_type": "code",
   "execution_count": 158,
   "id": "1b488cbe",
   "metadata": {},
   "outputs": [],
   "source": [
    "def convert_to_decimal(num_str):\n",
    "    try:\n",
    "        if \"pinch of\" in num_str:\n",
    "            return num_str\n",
    "        if \"1 to 2\" in num_str or \"1-2\" in num_str:\n",
    "            return 1.5\n",
    "        \n",
    "        if num_str == \"1 1⁄8\":\n",
    "            return 1.125\n",
    "\n",
    "        final_num = 0\n",
    "        mult = 1\n",
    "        \n",
    "        try:\n",
    "            return float(num_str)\n",
    "        except:\n",
    "            pass\n",
    "\n",
    "        if \"/\" in num_str:\n",
    "            split_on_space = num_str.split(\" \")\n",
    "            res = 0\n",
    "            for num_part in split_on_space:\n",
    "                if num_part != \"\":\n",
    "                    if \"/\" in num_part:\n",
    "                        res += int(num_part.split(\"/\")[0]) / int(num_part.split(\"/\")[1])\n",
    "                    else:\n",
    "                        res += int(num_part)\n",
    "            return res\n",
    "        elif \"⁄\" in num_str:\n",
    "            split_on_space = num_str.split(\" \")\n",
    "            res = 0\n",
    "            for num_part in split_on_space:\n",
    "                if num_part != \"\":\n",
    "                    if \"⁄\" in num_part:\n",
    "                        res += int(num_part.split(\"⁄\")[0]) / int(num_part.split(\"⁄\")[1])\n",
    "                    else:\n",
    "                        res += int(num_part)\n",
    "            return res\n",
    "        else:\n",
    "            for i in reversed(range(len(num_str))):\n",
    "                if num_str[i] != \" \":\n",
    "                    num = unicodedata.numeric(num_str[i])\n",
    "                    final_num += (num*mult)\n",
    "                    if num >= 1 or num == 0:\n",
    "                        mult *= 10\n",
    "                        \n",
    "            return final_num\n",
    "    except:\n",
    "        print(num_str)\n",
    "        raise(\"error\")\n",
    "        \n",
    "            \n",
    "    "
   ]
  },
  {
   "cell_type": "code",
   "execution_count": 182,
   "id": "73a6360c",
   "metadata": {
    "scrolled": true
   },
   "outputs": [],
   "source": [
    "FOODS_IN_QUANTITY = [\"green bell peppers, cut into large chunks\", \"jalapeño\", \"large\"]\n",
    "IGNORE_QUANTITY = [\"several\", \"chunks\"]\n",
    "UNIT_IN_QUANTITY = [\"tablespoons\", \"oz\"]\n",
    "\n",
    "new_ingredients = []\n",
    "\n",
    "for index, row in df.iterrows():\n",
    "    ingredients = json.loads(row[\"ingredients\"])\n",
    "    for ingredient in ingredients:\n",
    "        if \"quantity\" in ingredient:\n",
    "            qt = ingredient[\"quantity\"]\n",
    "            if type(qt) is str:\n",
    "                qtn = 0.0\n",
    "                if \" hard-cooked\" in qt:\n",
    "                    qt = qt.replace(\" hard-cooked\", \"\")\n",
    "                if \"cups\" in qt:\n",
    "                    qt = qt.replace(\"cups\", \"\")\n",
    "                    ingredient[\"unit\"] = \"cups\"\n",
    "                if \"cup\" in qt:\n",
    "                    qt = qt.replace(\"cup\", \"\")\n",
    "                    ingredient[\"unit\"] = \"cup\"\n",
    "\n",
    "                if qt == \"13 ¾ to 15\":\n",
    "                    qt = \"15\"\n",
    "\n",
    "                if \"to\" in qt:\n",
    "                    qt = qt.split(\"to\")[1]\n",
    "                    qt = qt.replace(\" \", \"\")\n",
    "\n",
    "                if \"2 R\" in qt:\n",
    "                    ingredient[\"ingredient\"] = \"R\" + ingredient[\"ingredient\"]\n",
    "                    qt = \"2\"\n",
    "\n",
    "                for uic in UNIT_IN_QUANTITY:\n",
    "                    if uic in qt:\n",
    "                        ingredient[\"unit\"] = uic\n",
    "                        qt = qt.replace(uic, \"\")\n",
    "                        qt = qt.replace(\" \", \"\")\n",
    "\n",
    "                for fic in FOODS_IN_QUANTITY:\n",
    "                    if fic in qt:\n",
    "                        qt = qt.replace(fic, \"\")\n",
    "\n",
    "                if qt == \"1 (16\":\n",
    "                    qt = \"1\"\n",
    "                    ingredient[\"unit\"] = \"(16 \" + ingredient[\"unit\"]\n",
    "\n",
    "                if qt == \"1 (5 ½ pound)\":\n",
    "                    qt = \"5.5\"\n",
    "                    ingredient[\"unit\"] = \"pound\"\n",
    "\n",
    "                if qt in IGNORE_QUANTITY:\n",
    "                    qtn = 0\n",
    "                else:\n",
    "                    qt = qt.replace(\"\\xa0\", \" \")\n",
    "                    qtn = convert_to_decimal(qt)\n",
    "                ingredient[\"quantity\"] = qtn\n",
    "    new_ingredients.append(json.dumps(ingredients))\n",
    "df[\"ingredients\"] = new_ingredients"
   ]
  },
  {
   "cell_type": "code",
   "execution_count": 195,
   "id": "6646ebbb",
   "metadata": {},
   "outputs": [
    {
     "name": "stdout",
     "output_type": "stream",
     "text": [
      "{}\n"
     ]
    }
   ],
   "source": [
    "ounce_package_dict = dict()\n",
    "units = explore_units(df).keys()\n",
    "for unit in units:\n",
    "    if \"ounce\" in unit:\n",
    "        try:\n",
    "            oz_num = unit\n",
    "            \n",
    "            oz_num = oz_num.replace(\"(\" \"\")\n",
    "            print(oz_num)\n",
    "            oz_num = oz_num.replace(\")\" \"\")\n",
    "            oz_num = oz_num.replace(\"-\", \" \")\n",
    "            \n",
    "            oz_num = oz_num.split(\" ounce\")[0]\n",
    "            oz_num = convert_to_decimal(oz_num)\n",
    "            ounce_package_dict[unit] = oz_num\n",
    "        except:\n",
    "            pass\n",
    "        \n",
    "print(ounce_package_dict)"
   ]
  },
  {
   "cell_type": "code",
   "execution_count": 184,
   "id": "2baf0263",
   "metadata": {},
   "outputs": [],
   "source": [
    "df.to_csv(\"cleanedData1.csv\")\n"
   ]
  },
  {
   "cell_type": "code",
   "execution_count": 185,
   "id": "babec2b1",
   "metadata": {
    "scrolled": true
   },
   "outputs": [],
   "source": [
    "package_convert_dictionary = dict()\n",
    "package_convert_dictionary[\"(16 ounce) can\"] = 16\n",
    "package_convert_dictionary[\"(8 ounce) cans\"] = 8 \n",
    "package_convert_dictionary[\"(8 ounce) package\"] = 8\n",
    "package_convert_dictionary[\"(3 ounce) packages\"] = 3\n",
    "package_convert_dictionary[\"(8 ounce)\"] = 8\n",
    "package_convert_dictionary[\"(2 ounce)\"] = 2\n",
    "package_convert_dictionary[\"(14 ounce) can\"] = 14\n",
    "package_convert_dictionary[\"(18.25 ounce) package\"] = 18.25\n",
    "package_convert_dictionary[\"(3.5 ounce) package\"] = 3.5\n",
    "package_convert_dictionary[\"(15 ounce) can\"] = 15\n",
    "package_convert_dictionary[\"(12 fluid ounce) can\"] = 12\n",
    "package_convert_dictionary[\"(15.25 ounce) package\"] = 15.25\n",
    "package_convert_dictionary[\"(8 ounce) container\"] = 8\n",
    "package_convert_dictionary[\"(12 ounce) can\"] = 12\n",
    "package_convert_dictionary[\"(32 ounce) cartons\"] = 32\n",
    "package_convert_dictionary[\"(4 ounce) links\"] = 4\n",
    "package_convert_dictionary[\"(8.5 ounce) package\"] = 8.5\n",
    "package_convert_dictionary[\"(6 ounce) package\"] = 6\n",
    "package_convert_dictionary[\"(19 ounce) cans\"] = 19\n",
    "package_convert_dictionary[\"(10.75 ounce) can\"] = 10.75\n",
    "package_convert_dictionary[\"(3 ounce) package\"] = 3\n",
    "package_convert_dictionary[\"(32 fluid ounce) container\"] = 32\n",
    "package_convert_dictionary[\"(32 ounce) can\"] = 32\n",
    "package_convert_dictionary[\"(12 ounce) cans\"] = 12\n",
    "package_convert_dictionary[\"(10 ounce)\"] = 10\n",
    "package_convert_dictionary[\"(8 ounce) can\"] = 8\n",
    "package_convert_dictionary[\"(12 ounce) package\"] = 12\n",
    "package_convert_dictionary[\"(14.5 ounce) can\"] = 14.5\n",
    "package_convert_dictionary[\"(16 ounce) cans\"] = 16\n",
    "package_convert_dictionary[\"(32 ounce) carton\"] = 32\n",
    "package_convert_dictionary[\"(12 fluid ounce) can or bottle\"] = 12\n",
    "package_convert_dictionary[\"(14 ounce) package\"] = 14\n",
    "package_convert_dictionary[\"(14 ounce) cans\"] = 14\n",
    "package_convert_dictionary[\"(28 ounce) can\"] = 28\n",
    "package_convert_dictionary[\"(14.5 ounce) cans\"] = 14.5\n",
    "package_convert_dictionary[\"(15 ounce) cans\"] = 15\n",
    "package_convert_dictionary[\"(10 ounce) package\"] = 10\n",
    "package_convert_dictionary[\"(6 ounce) cans\"] = 6\n",
    "package_convert_dictionary[\"(12 ounce) jar\"] = 12\n",
    "package_convert_dictionary[\"(10 ounce) bag\"] = 10\n",
    "package_convert_dictionary[\"(15.25 ounce) can\"] = 15.25\n",
    "package_convert_dictionary[\"(10 ounce) can\"] = 10\n",
    "package_convert_dictionary[\"(11 ounce) can\"] = 11"
   ]
  },
  {
   "cell_type": "code",
   "execution_count": 187,
   "id": "d0f1a998",
   "metadata": {},
   "outputs": [],
   "source": [
    "new_ingredients = []\n",
    "for index, row in df.iterrows():\n",
    "        ingredients = json.loads(row[\"ingredients\"])\n",
    "        for ingredient in ingredients:\n",
    "            if \"unit\" in ingredient:\n",
    "                unit = ingredient[\"unit\"]\n",
    "                if unit in package_convert_dictionary:\n",
    "                    if type(ingredient[\"quantity\"]) == str:\n",
    "                        ingredient[\"quantity\"] = float(ingredient[\"quantity\"])\n",
    "                    qty = ingredient[\"quantity\"] * package_convert_dictionary[unit]\n",
    "                    ingredient[\"quantity\"] = qty\n",
    "                    ingredient[\"unit\"] = \"ounce\"\n",
    "                    ingredient[\"suggested unit\"] = unit\n",
    "        new_ingredients.append(json.dumps(ingredients))\n",
    "df[\"ingredients\"] = new_ingredients"
   ]
  },
  {
   "cell_type": "code",
   "execution_count": 86,
   "id": "5ec32d79",
   "metadata": {},
   "outputs": [
    {
     "data": {
      "text/plain": [
       "10.5"
      ]
     },
     "execution_count": 86,
     "metadata": {},
     "output_type": "execute_result"
    }
   ],
   "source": [
    "convert_to_decimal(\"10 ½\")"
   ]
  },
  {
   "cell_type": "code",
   "execution_count": null,
   "id": "6436de90",
   "metadata": {},
   "outputs": [],
   "source": []
  }
 ],
 "metadata": {
  "kernelspec": {
   "display_name": "Python 3 (ipykernel)",
   "language": "python",
   "name": "python3"
  },
  "language_info": {
   "codemirror_mode": {
    "name": "ipython",
    "version": 3
   },
   "file_extension": ".py",
   "mimetype": "text/x-python",
   "name": "python",
   "nbconvert_exporter": "python",
   "pygments_lexer": "ipython3",
   "version": "3.11.5"
  }
 },
 "nbformat": 4,
 "nbformat_minor": 5
}
