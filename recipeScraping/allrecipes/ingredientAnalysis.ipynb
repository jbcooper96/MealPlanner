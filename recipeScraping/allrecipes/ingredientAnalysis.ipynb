{
 "cells": [
  {
   "cell_type": "code",
   "execution_count": 1,
   "id": "79f05a2c-3886-4bd1-8692-a3d8cc213ab6",
   "metadata": {},
   "outputs": [],
   "source": [
    "import pandas as pd\n",
    "import json\n",
    "import unicodedata\n",
    "import transformers\n",
    "from sklearn.feature_extraction.text import CountVectorizer"
   ]
  },
  {
   "cell_type": "code",
   "execution_count": 2,
   "id": "80740d55-13f8-446b-bab8-20d128d90435",
   "metadata": {},
   "outputs": [],
   "source": [
    "df = pd.read_csv(\"cleanedData1.csv\")"
   ]
  },
  {
   "cell_type": "code",
   "execution_count": 3,
   "id": "e4785b26-412a-4aaf-b8d2-d1e6f793b63d",
   "metadata": {},
   "outputs": [],
   "source": [
    "def get_unique_ingredient_name_list(df):\n",
    "    ingredients_set = set()\n",
    "    for index, row in df.iterrows():\n",
    "        ingredients = json.loads(row[\"ingredients\"])\n",
    "        for ingredient in ingredients:\n",
    "            if \"ingredient\" in ingredient:\n",
    "                ingredients_set.add(ingredient[\"ingredient\"].lower())\n",
    "\n",
    "    return list(ingredients_set)"
   ]
  },
  {
   "cell_type": "code",
   "execution_count": 4,
   "id": "b16ac53c-fd7e-4160-b8a2-54c6f339b87e",
   "metadata": {},
   "outputs": [],
   "source": [
    "unique_ingredients = get_unique_ingredient_name_list(df)"
   ]
  },
  {
   "cell_type": "code",
   "execution_count": 5,
   "id": "92baa606-1282-47a1-bb2b-ed14ac240765",
   "metadata": {},
   "outputs": [
    {
     "name": "stdout",
     "output_type": "stream",
     "text": [
      "41423\n"
     ]
    },
    {
     "data": {
      "text/plain": [
       "['',\n",
       " 'butternut squash, halved lengthwise and seeded',\n",
       " 'mint, for garnish',\n",
       " 'french vanilla cake mix (such as duncan hines®)',\n",
       " 'prepared angel food cake, cut into cubes',\n",
       " 'eggs, separated, divided',\n",
       " 'sea salt, or more to taste',\n",
       " 'spicy ranch-style seasoning mix',\n",
       " 'dry lentils, rinsed and drained',\n",
       " 'fresh sage, bruised',\n",
       " 'hot yellow chile peppers, finely chopped (optional)',\n",
       " 'orange-flavored liqueur, or to taste',\n",
       " 'bottled salsa',\n",
       " 'pico de gallo salsa, drained',\n",
       " 'chopped italian flat leaf parsley',\n",
       " 'country ham slices, diced',\n",
       " 'sambal oelek',\n",
       " 'carrots, peeled and cut into matchsticks',\n",
       " 'vegan pie crust',\n",
       " 'apple juice, in a spray bottle (optional)',\n",
       " 'hard-boiled egg, chopped',\n",
       " 'roasted red pepper hummus, such as athenos®',\n",
       " 'sliced green bell peppers',\n",
       " 'pimientos, drained and diced',\n",
       " 'refrigerated biscuit dough, baked according to package instructions']"
      ]
     },
     "execution_count": 5,
     "metadata": {},
     "output_type": "execute_result"
    }
   ],
   "source": [
    "print(len(unique_ingredients))\n",
    "unique_ingredients[:25]"
   ]
  },
  {
   "cell_type": "code",
   "execution_count": 15,
   "id": "c90ab51b-776e-407c-bba6-64400a098ca0",
   "metadata": {},
   "outputs": [],
   "source": [
    "vectorizer = CountVectorizer(analyzer=\"word\", ngram_range=(1, 2))\n",
    "X = vectorizer.fit_transform(unique_ingredients)\n",
    "feature_names = vectorizer.get_feature_names_out()"
   ]
  },
  {
   "cell_type": "code",
   "execution_count": 16,
   "id": "3886d7b4-1f0e-4364-b2c8-6c9e6292d643",
   "metadata": {},
   "outputs": [
    {
     "name": "stdout",
     "output_type": "stream",
     "text": [
      "35895\n",
      "['zealand' 'zealand leg' 'zero' 'zero calorie' 'zest' 'zest and'\n",
      " 'zest curl' 'zest cut' 'zest divided' 'zest finely' 'zest for'\n",
      " 'zest from' 'zest grated' 'zest if' 'zest minced' 'zest of' 'zest only'\n",
      " 'zest optional' 'zest or' 'zest oranges' 'zest plus' 'zest preferably'\n",
      " 'zested' 'zested and' 'zested divided' 'zested in' 'zested into'\n",
      " 'zested optional' 'zested or' 'zested peeled' 'zested then' 'zesty'\n",
      " 'zesty italian' 'zesty sour' 'zesty style' 'zinfandel' 'zinfandel or'\n",
      " 'zinfandel wine' 'zing' 'zing zang' 'zinger' 'zinger tea' 'ziti'\n",
      " 'ziti or' 'ziti pasta' 'ziyad' 'ziyad cut' 'zucchini'\n",
      " 'zucchini alternating' 'zucchini and' 'zucchini blossoms'\n",
      " 'zucchini chopped' 'zucchini chunks' 'zucchini coarsely' 'zucchini cubed'\n",
      " 'zucchini cut' 'zucchini diced' 'zucchini ends' 'zucchini excess'\n",
      " 'zucchini finely' 'zucchini frozen' 'zucchini grated' 'zucchini halved'\n",
      " 'zucchini inch' 'zucchini julienned' 'zucchini lightly'\n",
      " 'zucchini matchsticks' 'zucchini noodles' 'zucchini or' 'zucchini patted'\n",
      " 'zucchini peeled' 'zucchini quartered' 'zucchini raw' 'zucchini run'\n",
      " 'zucchini seeded' 'zucchini shaved' 'zucchini shredded' 'zucchini sliced'\n",
      " 'zucchini slices' 'zucchini spiralized' 'zucchini squash'\n",
      " 'zucchini squashes' 'zucchini squeezed' 'zucchini thickly'\n",
      " 'zucchini thinly' 'zucchini trimmed' 'zucchini very' 'zucchinis'\n",
      " 'zucchinis chopped' 'zucchinis cut' 'zucchinis diced' 'zucchinis ends'\n",
      " 'zucchinis grated' 'zucchinis halved' 'zucchinis quartered'\n",
      " 'zucchinis shredded' 'zucchinis sliced' 'zucchinis thinly' 'árbol'\n",
      " 'árbol chile']\n"
     ]
    }
   ],
   "source": [
    "print(len(feature_names))\n",
    "print(feature_names[-100:])"
   ]
  },
  {
   "cell_type": "code",
   "execution_count": 19,
   "id": "9da5c49c-8ad3-4d97-8d82-9070e5b227b9",
   "metadata": {
    "scrolled": true
   },
   "outputs": [
    {
     "name": "stdout",
     "output_type": "stream",
     "text": [
      "<Compressed Sparse Row sparse matrix of dtype 'int64'\n",
      "\twith 358669 stored elements and shape (41423, 35895)>\n",
      "  Coords\tValues\n",
      "  (1, 4990)\t1\n",
      "  (1, 30576)\t1\n",
      "  (1, 15296)\t1\n",
      "  (1, 18399)\t1\n",
      "  (1, 821)\t1\n",
      "  (1, 28063)\t1\n",
      "  (1, 4993)\t1\n",
      "  (1, 30590)\t1\n",
      "  (1, 15323)\t1\n",
      "  (1, 18401)\t1\n",
      "  (1, 1111)\t1\n",
      "  (2, 20284)\t1\n",
      "  (2, 12738)\t1\n",
      "  (2, 14034)\t1\n",
      "  (2, 20298)\t1\n",
      "  (2, 12779)\t1\n",
      "  (3, 13014)\t1\n",
      "  (3, 34010)\t1\n",
      "  (3, 5113)\t1\n",
      "  (3, 20360)\t1\n",
      "  (3, 31369)\t1\n",
      "  (3, 1518)\t1\n",
      "  (3, 11191)\t1\n",
      "  (3, 15780)\t1\n",
      "  (3, 13038)\t1\n",
      "  :\t:\n",
      "  (41419, 23584)\t1\n",
      "  (41419, 23585)\t1\n",
      "  (41419, 29166)\t1\n",
      "  (41419, 1133)\t1\n",
      "  (41419, 20932)\t1\n",
      "  (41419, 20937)\t1\n",
      "  (41420, 21863)\t1\n",
      "  (41420, 28631)\t1\n",
      "  (41420, 6078)\t1\n",
      "  (41420, 25434)\t1\n",
      "  (41420, 28742)\t1\n",
      "  (41420, 20617)\t1\n",
      "  (41420, 20621)\t1\n",
      "  (41420, 22165)\t1\n",
      "  (41420, 25436)\t1\n",
      "  (41421, 10222)\t1\n",
      "  (41421, 20733)\t1\n",
      "  (41421, 5014)\t1\n",
      "  (41421, 5015)\t1\n",
      "  (41421, 10249)\t1\n",
      "  (41422, 6325)\t1\n",
      "  (41422, 31004)\t1\n",
      "  (41422, 6410)\t1\n",
      "  (41422, 31542)\t1\n",
      "  (41422, 31545)\t1\n"
     ]
    }
   ],
   "source": [
    "print(X)"
   ]
  },
  {
   "cell_type": "code",
   "execution_count": 22,
   "id": "3f0ab6d2-9c53-407e-b37e-462a3d61f633",
   "metadata": {},
   "outputs": [
    {
     "data": {
      "text/plain": [
       "(array([    1,     1,     1, ..., 41422, 41422, 41422],\n",
       "       shape=(358669,), dtype=int32),\n",
       " array([  821,  1111,  4990, ..., 31004, 31542, 31545],\n",
       "       shape=(358669,), dtype=int32))"
      ]
     },
     "execution_count": 22,
     "metadata": {},
     "output_type": "execute_result"
    }
   ],
   "source": [
    "X.nonzero()"
   ]
  },
  {
   "cell_type": "code",
   "execution_count": 25,
   "id": "fad1d662-dfa0-4796-9b4a-fa489cccdc82",
   "metadata": {},
   "outputs": [
    {
     "name": "stdout",
     "output_type": "stream",
     "text": [
      "41410\n"
     ]
    }
   ],
   "source": [
    "non_z = X.nonzero()\n",
    "\n",
    "ing_num = 1\n",
    "ing_inds = []\n",
    "ing_inds_tmp = []\n",
    "for i, ing in enumerate(non_z[0]):\n",
    "    if ing == ing_num:\n",
    "        ing_inds_tmp.append(non_z[1][i])\n",
    "    else:\n",
    "        ing_inds.append(ing_inds_tmp)\n",
    "        ing_inds_tmp = []\n",
    "        ing_inds_tmp.append(non_z[1][i])\n",
    "        ing_num = ing\n",
    "\n",
    "if len(ing_inds_tmp) > 0:\n",
    "    ing_inds.append(ing_inds_tmp)\n",
    "\n",
    "print(len(ing_inds))"
   ]
  },
  {
   "cell_type": "code",
   "execution_count": 30,
   "id": "9a142f71-88cd-4ed0-8ed7-04149595168c",
   "metadata": {
    "scrolled": true
   },
   "outputs": [
    {
     "name": "stdout",
     "output_type": "stream",
     "text": [
      "index 115: \n",
      "and\n",
      "and greens\n",
      "fresh\n",
      "fresh herbs\n",
      "greens\n",
      "greens lettuce\n",
      "herbs\n",
      "herbs and\n",
      "lettuce\n",
      "lettuce mix\n",
      "mix\n",
      "prewashed\n",
      "prewashed fresh\n",
      "index 116: \n",
      "halved\n",
      "halved lengthwise\n",
      "hearts\n",
      "hearts of\n",
      "lengthwise\n",
      "lettuce\n",
      "lettuce halved\n",
      "of\n",
      "of romaine\n",
      "romaine\n",
      "romaine lettuce\n",
      "index 117: \n",
      "aluminum\n",
      "aluminum foil\n",
      "duty\n",
      "duty aluminum\n",
      "foil\n",
      "heavy\n",
      "heavy duty\n",
      "index 118: \n",
      "as\n",
      "as farmer\n",
      "farmer\n",
      "farmer john\n",
      "john\n",
      "link\n",
      "link sausages\n",
      "pork\n",
      "pork link\n",
      "sausages\n",
      "sausages such\n",
      "such\n",
      "such as\n",
      "index 119: \n",
      "bacon\n",
      "bacon cut\n",
      "cut\n",
      "cut bacon\n",
      "cut into\n",
      "inch\n",
      "inch pieces\n",
      "into\n",
      "into inch\n",
      "pieces\n",
      "thick\n",
      "thick cut\n"
     ]
    }
   ],
   "source": [
    "for i in range(115, 120):\n",
    "    print(f\"index {i}: \")\n",
    "    for ind in ing_inds[i]:\n",
    "        print(feature_names[ind])"
   ]
  },
  {
   "cell_type": "code",
   "execution_count": 34,
   "id": "41d5b640-897b-4c70-95b8-24a02ced104c",
   "metadata": {},
   "outputs": [
    {
     "data": {
      "application/vnd.jupyter.widget-view+json": {
       "model_id": "e8942f9e86b24c18be220bf6a7062fb6",
       "version_major": 2,
       "version_minor": 0
      },
      "text/plain": [
       "README.md:   0%|          | 0.00/407 [00:00<?, ?B/s]"
      ]
     },
     "metadata": {},
     "output_type": "display_data"
    },
    {
     "data": {
      "application/vnd.jupyter.widget-view+json": {
       "model_id": "f4d6982892c24d4493d73a81291804f2",
       "version_major": 2,
       "version_minor": 0
      },
      "text/plain": [
       "train-00000-of-00003.parquet:   0%|          | 0.00/367M [00:00<?, ?B/s]"
      ]
     },
     "metadata": {},
     "output_type": "display_data"
    },
    {
     "data": {
      "application/vnd.jupyter.widget-view+json": {
       "model_id": "5946e4aa7c2b4361988f496638f94071",
       "version_major": 2,
       "version_minor": 0
      },
      "text/plain": [
       "train-00001-of-00003.parquet:   0%|          | 0.00/476M [00:00<?, ?B/s]"
      ]
     },
     "metadata": {},
     "output_type": "display_data"
    },
    {
     "data": {
      "application/vnd.jupyter.widget-view+json": {
       "model_id": "69817fb33d124943a65492cd8cf33444",
       "version_major": 2,
       "version_minor": 0
      },
      "text/plain": [
       "train-00002-of-00003.parquet:   0%|          | 0.00/484M [00:00<?, ?B/s]"
      ]
     },
     "metadata": {},
     "output_type": "display_data"
    },
    {
     "data": {
      "application/vnd.jupyter.widget-view+json": {
       "model_id": "600a56ee73a248608bca7fc272aac873",
       "version_major": 2,
       "version_minor": 0
      },
      "text/plain": [
       "Generating train split:   0%|          | 0/6676 [00:00<?, ? examples/s]"
      ]
     },
     "metadata": {},
     "output_type": "display_data"
    }
   ],
   "source": [
    "from datasets import load_dataset\n",
    "\n",
    "ds = load_dataset(\"Scuccorese/food-ingredients-dataset\")"
   ]
  },
  {
   "cell_type": "code",
   "execution_count": 35,
   "id": "67ef8270-386c-48f2-8d87-50cfbe76f926",
   "metadata": {},
   "outputs": [
    {
     "name": "stdout",
     "output_type": "stream",
     "text": [
      "DatasetDict({\n",
      "    train: Dataset({\n",
      "        features: ['category', 'subcategory', 'ingredient', 'image'],\n",
      "        num_rows: 6676\n",
      "    })\n",
      "})\n"
     ]
    }
   ],
   "source": [
    "print(ds)"
   ]
  },
  {
   "cell_type": "code",
   "execution_count": 36,
   "id": "a5b2b778-d83b-4639-96ec-8d5b769cde66",
   "metadata": {},
   "outputs": [],
   "source": [
    "ing_ds = ds[\"train\"].remove_columns(\"image\")"
   ]
  },
  {
   "cell_type": "code",
   "execution_count": 39,
   "id": "feb5645b-320b-4c25-8833-00a4d7ce0660",
   "metadata": {},
   "outputs": [],
   "source": [
    "ing_ds = pd.DataFrame(ing_ds)"
   ]
  },
  {
   "cell_type": "code",
   "execution_count": 41,
   "id": "f4612eb9-a2a0-4d5b-b843-0c342fb781cc",
   "metadata": {},
   "outputs": [],
   "source": [
    "ing_ds = ing_ds.drop_duplicates()"
   ]
  },
  {
   "cell_type": "code",
   "execution_count": 43,
   "id": "a5006f05-a6dc-47f2-b5fc-93c762634dba",
   "metadata": {},
   "outputs": [],
   "source": [
    "ing_cat_dict = dict()\n",
    "for _, row in ing_ds.iterrows():\n",
    "    ing_cat_dict[row[\"ingredient\"]] = row[\"category\"]"
   ]
  },
  {
   "cell_type": "code",
   "execution_count": 49,
   "id": "3e035952-fbc2-42b8-bc08-89c1def695f0",
   "metadata": {},
   "outputs": [
    {
     "name": "stdout",
     "output_type": "stream",
     "text": [
      "index 5: \n",
      "sea salt\n",
      "index 10: \n",
      "orange\n",
      "index 25: \n",
      "celery\n",
      "index 33: \n",
      "beef\n",
      "index 35: \n",
      "orange\n",
      "index 36: \n",
      "orange\n",
      "index 37: \n",
      "chicken\n",
      "index 38: \n",
      "rice\n",
      "index 38: \n",
      "white rice\n",
      "index 42: \n",
      "pineapple\n",
      "index 44: \n",
      "lemon\n",
      "index 46: \n",
      "crab\n",
      "index 49: \n",
      "pasta\n",
      "index 49: \n",
      "rotini\n",
      "index 50: \n",
      "lemon\n",
      "index 56: \n",
      "snow peas\n",
      "index 62: \n",
      "garlic\n",
      "index 66: \n",
      "polenta\n",
      "index 69: \n",
      "onion\n",
      "index 72: \n",
      "garlic\n",
      "index 78: \n",
      "cherry\n",
      "index 80: \n",
      "spinach\n",
      "index 81: \n",
      "chicken\n",
      "index 84: \n",
      "peach\n",
      "index 87: \n",
      "lemon\n",
      "index 94: \n",
      "pork\n",
      "index 96: \n",
      "carrot\n",
      "index 97: \n",
      "green olives\n"
     ]
    }
   ],
   "source": [
    "for i in range(100):\n",
    "    for ind in ing_inds[i]:\n",
    "        if feature_names[ind] in ing_cat_dict.keys():\n",
    "            print(f\"index {i}: \")\n",
    "            print(feature_names[ind])"
   ]
  },
  {
   "cell_type": "code",
   "execution_count": null,
   "id": "6996308a-86d5-4154-b787-7f5ef2b27e6d",
   "metadata": {},
   "outputs": [],
   "source": []
  }
 ],
 "metadata": {
  "kernelspec": {
   "display_name": "Python 3 (ipykernel)",
   "language": "python",
   "name": "python3"
  },
  "language_info": {
   "codemirror_mode": {
    "name": "ipython",
    "version": 3
   },
   "file_extension": ".py",
   "mimetype": "text/x-python",
   "name": "python",
   "nbconvert_exporter": "python",
   "pygments_lexer": "ipython3",
   "version": "3.11.5"
  }
 },
 "nbformat": 4,
 "nbformat_minor": 5
}
